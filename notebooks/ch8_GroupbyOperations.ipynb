{
 "cells": [
  {
   "cell_type": "code",
   "execution_count": 1,
   "metadata": {},
   "outputs": [],
   "source": [
    "import pandas as pd"
   ]
  },
  {
   "cell_type": "code",
   "execution_count": 2,
   "metadata": {},
   "outputs": [],
   "source": [
    "df = pd.read_csv('../data/gapminder.tsv', sep='\\t')"
   ]
  },
  {
   "cell_type": "code",
   "execution_count": 3,
   "metadata": {},
   "outputs": [
    {
     "data": {
      "text/plain": [
       "year\n",
       "1952    49.057620\n",
       "1957    51.507401\n",
       "1962    53.609249\n",
       "1967    55.678290\n",
       "1972    57.647386\n",
       "1977    59.570157\n",
       "1982    61.533197\n",
       "1987    63.212613\n",
       "1992    64.160338\n",
       "1997    65.014676\n",
       "2002    65.694923\n",
       "2007    67.007423\n",
       "Name: lifeExp, dtype: float64"
      ]
     },
     "execution_count": 3,
     "metadata": {},
     "output_type": "execute_result"
    }
   ],
   "source": [
    "# Calculate the avg life expectancy for each year\n",
    "avg_life_exp_by_year = df.groupby('year')[\"lifeExp\"].mean()\n",
    "avg_life_exp_by_year"
   ]
  },
  {
   "cell_type": "code",
   "execution_count": 4,
   "metadata": {},
   "outputs": [
    {
     "data": {
      "text/plain": [
       "array([1952, 1957, 1962, 1967, 1972, 1977, 1982, 1987, 1992, 1997, 2002,\n",
       "       2007], dtype=int64)"
      ]
     },
     "execution_count": 4,
     "metadata": {},
     "output_type": "execute_result"
    }
   ],
   "source": [
    "# Groupby statements can be thought of as creating a subset of each unique value of a column(or pairs from columns)\n",
    "# get a list of unique years in the data\n",
    "years = df.year.unique()\n",
    "years"
   ]
  },
  {
   "cell_type": "code",
   "execution_count": 5,
   "metadata": {},
   "outputs": [
    {
     "data": {
      "text/html": [
       "<div>\n",
       "<style scoped>\n",
       "    .dataframe tbody tr th:only-of-type {\n",
       "        vertical-align: middle;\n",
       "    }\n",
       "\n",
       "    .dataframe tbody tr th {\n",
       "        vertical-align: top;\n",
       "    }\n",
       "\n",
       "    .dataframe thead th {\n",
       "        text-align: right;\n",
       "    }\n",
       "</style>\n",
       "<table border=\"1\" class=\"dataframe\">\n",
       "  <thead>\n",
       "    <tr style=\"text-align: right;\">\n",
       "      <th></th>\n",
       "      <th>country</th>\n",
       "      <th>continent</th>\n",
       "      <th>year</th>\n",
       "      <th>lifeExp</th>\n",
       "      <th>pop</th>\n",
       "      <th>gdpPercap</th>\n",
       "    </tr>\n",
       "  </thead>\n",
       "  <tbody>\n",
       "    <tr>\n",
       "      <th>0</th>\n",
       "      <td>Afghanistan</td>\n",
       "      <td>Asia</td>\n",
       "      <td>1952</td>\n",
       "      <td>28.801</td>\n",
       "      <td>8425333</td>\n",
       "      <td>779.445314</td>\n",
       "    </tr>\n",
       "    <tr>\n",
       "      <th>12</th>\n",
       "      <td>Albania</td>\n",
       "      <td>Europe</td>\n",
       "      <td>1952</td>\n",
       "      <td>55.230</td>\n",
       "      <td>1282697</td>\n",
       "      <td>1601.056136</td>\n",
       "    </tr>\n",
       "    <tr>\n",
       "      <th>24</th>\n",
       "      <td>Algeria</td>\n",
       "      <td>Africa</td>\n",
       "      <td>1952</td>\n",
       "      <td>43.077</td>\n",
       "      <td>9279525</td>\n",
       "      <td>2449.008185</td>\n",
       "    </tr>\n",
       "    <tr>\n",
       "      <th>36</th>\n",
       "      <td>Angola</td>\n",
       "      <td>Africa</td>\n",
       "      <td>1952</td>\n",
       "      <td>30.015</td>\n",
       "      <td>4232095</td>\n",
       "      <td>3520.610273</td>\n",
       "    </tr>\n",
       "    <tr>\n",
       "      <th>48</th>\n",
       "      <td>Argentina</td>\n",
       "      <td>Americas</td>\n",
       "      <td>1952</td>\n",
       "      <td>62.485</td>\n",
       "      <td>17876956</td>\n",
       "      <td>5911.315053</td>\n",
       "    </tr>\n",
       "    <tr>\n",
       "      <th>...</th>\n",
       "      <td>...</td>\n",
       "      <td>...</td>\n",
       "      <td>...</td>\n",
       "      <td>...</td>\n",
       "      <td>...</td>\n",
       "      <td>...</td>\n",
       "    </tr>\n",
       "    <tr>\n",
       "      <th>1644</th>\n",
       "      <td>Vietnam</td>\n",
       "      <td>Asia</td>\n",
       "      <td>1952</td>\n",
       "      <td>40.412</td>\n",
       "      <td>26246839</td>\n",
       "      <td>605.066492</td>\n",
       "    </tr>\n",
       "    <tr>\n",
       "      <th>1656</th>\n",
       "      <td>West Bank and Gaza</td>\n",
       "      <td>Asia</td>\n",
       "      <td>1952</td>\n",
       "      <td>43.160</td>\n",
       "      <td>1030585</td>\n",
       "      <td>1515.592329</td>\n",
       "    </tr>\n",
       "    <tr>\n",
       "      <th>1668</th>\n",
       "      <td>Yemen, Rep.</td>\n",
       "      <td>Asia</td>\n",
       "      <td>1952</td>\n",
       "      <td>32.548</td>\n",
       "      <td>4963829</td>\n",
       "      <td>781.717576</td>\n",
       "    </tr>\n",
       "    <tr>\n",
       "      <th>1680</th>\n",
       "      <td>Zambia</td>\n",
       "      <td>Africa</td>\n",
       "      <td>1952</td>\n",
       "      <td>42.038</td>\n",
       "      <td>2672000</td>\n",
       "      <td>1147.388831</td>\n",
       "    </tr>\n",
       "    <tr>\n",
       "      <th>1692</th>\n",
       "      <td>Zimbabwe</td>\n",
       "      <td>Africa</td>\n",
       "      <td>1952</td>\n",
       "      <td>48.451</td>\n",
       "      <td>3080907</td>\n",
       "      <td>406.884115</td>\n",
       "    </tr>\n",
       "  </tbody>\n",
       "</table>\n",
       "<p>142 rows × 6 columns</p>\n",
       "</div>"
      ],
      "text/plain": [
       "                 country continent  year  lifeExp       pop    gdpPercap\n",
       "0            Afghanistan      Asia  1952   28.801   8425333   779.445314\n",
       "12               Albania    Europe  1952   55.230   1282697  1601.056136\n",
       "24               Algeria    Africa  1952   43.077   9279525  2449.008185\n",
       "36                Angola    Africa  1952   30.015   4232095  3520.610273\n",
       "48             Argentina  Americas  1952   62.485  17876956  5911.315053\n",
       "...                  ...       ...   ...      ...       ...          ...\n",
       "1644             Vietnam      Asia  1952   40.412  26246839   605.066492\n",
       "1656  West Bank and Gaza      Asia  1952   43.160   1030585  1515.592329\n",
       "1668         Yemen, Rep.      Asia  1952   32.548   4963829   781.717576\n",
       "1680              Zambia    Africa  1952   42.038   2672000  1147.388831\n",
       "1692            Zimbabwe    Africa  1952   48.451   3080907   406.884115\n",
       "\n",
       "[142 rows x 6 columns]"
      ]
     },
     "execution_count": 5,
     "metadata": {},
     "output_type": "execute_result"
    }
   ],
   "source": [
    "# we can go through each of the years and subset the data\n",
    "# example: subset the data for year \n",
    "y1952 = df.loc[df.year == 1952, :]\n",
    "y1952"
   ]
  },
  {
   "cell_type": "code",
   "execution_count": 6,
   "metadata": {},
   "outputs": [
    {
     "data": {
      "text/plain": [
       "49.057619718309866"
      ]
     },
     "execution_count": 6,
     "metadata": {},
     "output_type": "execute_result"
    }
   ],
   "source": [
    "# Finally, we can take the mean of the life expectancy\n",
    "y1952_mean = y1952[\"lifeExp\"].mean() # the groupby \n",
    "y1952_mean"
   ]
  },
  {
   "cell_type": "code",
   "execution_count": 7,
   "metadata": {},
   "outputs": [
    {
     "data": {
      "text/html": [
       "<div>\n",
       "<style scoped>\n",
       "    .dataframe tbody tr th:only-of-type {\n",
       "        vertical-align: middle;\n",
       "    }\n",
       "\n",
       "    .dataframe tbody tr th {\n",
       "        vertical-align: top;\n",
       "    }\n",
       "\n",
       "    .dataframe thead th {\n",
       "        text-align: right;\n",
       "    }\n",
       "</style>\n",
       "<table border=\"1\" class=\"dataframe\">\n",
       "  <thead>\n",
       "    <tr style=\"text-align: right;\">\n",
       "      <th></th>\n",
       "      <th>count</th>\n",
       "      <th>mean</th>\n",
       "      <th>std</th>\n",
       "      <th>min</th>\n",
       "      <th>25%</th>\n",
       "      <th>50%</th>\n",
       "      <th>75%</th>\n",
       "      <th>max</th>\n",
       "    </tr>\n",
       "    <tr>\n",
       "      <th>continent</th>\n",
       "      <th></th>\n",
       "      <th></th>\n",
       "      <th></th>\n",
       "      <th></th>\n",
       "      <th></th>\n",
       "      <th></th>\n",
       "      <th></th>\n",
       "      <th></th>\n",
       "    </tr>\n",
       "  </thead>\n",
       "  <tbody>\n",
       "    <tr>\n",
       "      <th>Africa</th>\n",
       "      <td>624.0</td>\n",
       "      <td>48.865330</td>\n",
       "      <td>9.150210</td>\n",
       "      <td>23.599</td>\n",
       "      <td>42.37250</td>\n",
       "      <td>47.7920</td>\n",
       "      <td>54.41150</td>\n",
       "      <td>76.442</td>\n",
       "    </tr>\n",
       "    <tr>\n",
       "      <th>Americas</th>\n",
       "      <td>300.0</td>\n",
       "      <td>64.658737</td>\n",
       "      <td>9.345088</td>\n",
       "      <td>37.579</td>\n",
       "      <td>58.41000</td>\n",
       "      <td>67.0480</td>\n",
       "      <td>71.69950</td>\n",
       "      <td>80.653</td>\n",
       "    </tr>\n",
       "    <tr>\n",
       "      <th>Asia</th>\n",
       "      <td>396.0</td>\n",
       "      <td>60.064903</td>\n",
       "      <td>11.864532</td>\n",
       "      <td>28.801</td>\n",
       "      <td>51.42625</td>\n",
       "      <td>61.7915</td>\n",
       "      <td>69.50525</td>\n",
       "      <td>82.603</td>\n",
       "    </tr>\n",
       "    <tr>\n",
       "      <th>Europe</th>\n",
       "      <td>360.0</td>\n",
       "      <td>71.903686</td>\n",
       "      <td>5.433178</td>\n",
       "      <td>43.585</td>\n",
       "      <td>69.57000</td>\n",
       "      <td>72.2410</td>\n",
       "      <td>75.45050</td>\n",
       "      <td>81.757</td>\n",
       "    </tr>\n",
       "    <tr>\n",
       "      <th>Oceania</th>\n",
       "      <td>24.0</td>\n",
       "      <td>74.326208</td>\n",
       "      <td>3.795611</td>\n",
       "      <td>69.120</td>\n",
       "      <td>71.20500</td>\n",
       "      <td>73.6650</td>\n",
       "      <td>77.55250</td>\n",
       "      <td>81.235</td>\n",
       "    </tr>\n",
       "  </tbody>\n",
       "</table>\n",
       "</div>"
      ],
      "text/plain": [
       "           count       mean        std     min       25%      50%       75%  \\\n",
       "continent                                                                     \n",
       "Africa     624.0  48.865330   9.150210  23.599  42.37250  47.7920  54.41150   \n",
       "Americas   300.0  64.658737   9.345088  37.579  58.41000  67.0480  71.69950   \n",
       "Asia       396.0  60.064903  11.864532  28.801  51.42625  61.7915  69.50525   \n",
       "Europe     360.0  71.903686   5.433178  43.585  69.57000  72.2410  75.45050   \n",
       "Oceania     24.0  74.326208   3.795611  69.120  71.20500  73.6650  77.55250   \n",
       "\n",
       "              max  \n",
       "continent          \n",
       "Africa     76.442  \n",
       "Americas   80.653  \n",
       "Asia       82.603  \n",
       "Europe     81.757  \n",
       "Oceania    81.235  "
      ]
     },
     "execution_count": 7,
     "metadata": {},
     "output_type": "execute_result"
    }
   ],
   "source": [
    "# Table 8.1 (page 178) of the book lists all the methods and functions that we can use with the groupby()\n",
    "# group by continent and describe each group\n",
    "continent_describe = df.groupby('continent')[\"lifeExp\"].describe()\n",
    "continent_describe"
   ]
  },
  {
   "cell_type": "code",
   "execution_count": 8,
   "metadata": {},
   "outputs": [
    {
     "name": "stderr",
     "output_type": "stream",
     "text": [
      "C:\\Users\\ruben.rodriguez\\AppData\\Local\\Temp\\ipykernel_4108\\256595025.py:6: FutureWarning: The provided callable <function mean at 0x000002AFF76A02C0> is currently using SeriesGroupBy.mean. In a future version of pandas, the provided callable will be used directly. To keep current behavior pass the string \"mean\" instead.\n",
      "  cont_le_agg = df.groupby('continent')[\"lifeExp\"].agg(np.mean)\n"
     ]
    },
    {
     "data": {
      "text/plain": [
       "continent\n",
       "Africa      48.865330\n",
       "Americas    64.658737\n",
       "Asia        60.064903\n",
       "Europe      71.903686\n",
       "Oceania     74.326208\n",
       "Name: lifeExp, dtype: float64"
      ]
     },
     "execution_count": 8,
     "metadata": {},
     "output_type": "execute_result"
    }
   ],
   "source": [
    "# the agg(), which stands for aggregation, is used for other functions not listed in the groupby table\n",
    "# We can use the mean() function from the numpy library by passing the function into the agg() method\n",
    "import numpy as np\n",
    "# calculate the avg life expectancy per continent\n",
    "# but use the agg() method\n",
    "cont_le_agg = df.groupby('continent')[\"lifeExp\"].agg(np.mean)\n",
    "cont_le_agg"
   ]
  },
  {
   "cell_type": "code",
   "execution_count": 9,
   "metadata": {},
   "outputs": [],
   "source": [
    "# we can also create custom calculations/formulass and pass them with agg()\n",
    "# create a custom function\n",
    "def my_mean(values):\n",
    "    \"\"\"my version of calculating a mean\"\"\"\n",
    "    n = len(values)\n",
    "    sum = 0\n",
    "    for value in values:\n",
    "        # add each value to the running sum\n",
    "        sum += value\n",
    "    return sum/n\n"
   ]
  },
  {
   "cell_type": "code",
   "execution_count": 10,
   "metadata": {},
   "outputs": [
    {
     "data": {
      "text/plain": [
       "year\n",
       "1952    49.057620\n",
       "1957    51.507401\n",
       "1962    53.609249\n",
       "1967    55.678290\n",
       "1972    57.647386\n",
       "1977    59.570157\n",
       "1982    61.533197\n",
       "1987    63.212613\n",
       "1992    64.160338\n",
       "1997    65.014676\n",
       "2002    65.694923\n",
       "2007    67.007423\n",
       "Name: lifeExp, dtype: float64"
      ]
     },
     "execution_count": 10,
     "metadata": {},
     "output_type": "execute_result"
    }
   ],
   "source": [
    "# now we use our created function inside agg()\n",
    "agg_my_mean = df.groupby('year')[\"lifeExp\"].agg(my_mean)\n",
    "agg_my_mean"
   ]
  },
  {
   "cell_type": "code",
   "execution_count": 11,
   "metadata": {},
   "outputs": [],
   "source": [
    "# in this example, we will calculate the global avg life expect, diff_value and substract it from each grouped value\n",
    "def my_mean_diff(values, diff_value):\n",
    "    \"\"\"Difference between the mean and diff_vaue\"\"\"\n",
    "    n = len(values)\n",
    "    sum = 0\n",
    "    for value in values:\n",
    "        sum += value\n",
    "    mean = sum/n\n",
    "    return   (mean - diff_value)"
   ]
  },
  {
   "cell_type": "code",
   "execution_count": 12,
   "metadata": {},
   "outputs": [
    {
     "data": {
      "text/plain": [
       "59.474439366197174"
      ]
     },
     "execution_count": 12,
     "metadata": {},
     "output_type": "execute_result"
    }
   ],
   "source": [
    "# calculate the global avg life expect mean\n",
    "global_mean = df[\"lifeExp\"].mean()\n",
    "global_mean"
   ]
  },
  {
   "cell_type": "code",
   "execution_count": 13,
   "metadata": {},
   "outputs": [
    {
     "data": {
      "text/plain": [
       "year\n",
       "1952   -10.416820\n",
       "1957    -7.967038\n",
       "1962    -5.865190\n",
       "1967    -3.796150\n",
       "1972    -1.827053\n",
       "1977     0.095718\n",
       "1982     2.058758\n",
       "1987     3.738173\n",
       "1992     4.685899\n",
       "1997     5.540237\n",
       "2002     6.220483\n",
       "2007     7.532983\n",
       "Name: lifeExp, dtype: float64"
      ]
     },
     "execution_count": 13,
     "metadata": {},
     "output_type": "execute_result"
    }
   ],
   "source": [
    "# custom aggregation function with multiple parameters\n",
    "agg_mean_diff = (\n",
    "    df\n",
    "    .groupby(\"year\")\n",
    "    [\"lifeExp\"]\n",
    "    .agg(my_mean_diff, diff_value=global_mean)\n",
    ")\n",
    "agg_mean_diff"
   ]
  },
  {
   "cell_type": "code",
   "execution_count": 14,
   "metadata": {},
   "outputs": [
    {
     "name": "stderr",
     "output_type": "stream",
     "text": [
      "C:\\Users\\ruben.rodriguez\\AppData\\Local\\Temp\\ipykernel_4108\\980225372.py:7: FutureWarning: The provided callable <function mean at 0x000002AFF76A02C0> is currently using SeriesGroupBy.mean. In a future version of pandas, the provided callable will be used directly. To keep current behavior pass the string \"mean\" instead.\n",
      "  .agg([np.count_nonzero, np.mean, np.std])\n",
      "C:\\Users\\ruben.rodriguez\\AppData\\Local\\Temp\\ipykernel_4108\\980225372.py:7: FutureWarning: The provided callable <function std at 0x000002AFF76A0400> is currently using SeriesGroupBy.std. In a future version of pandas, the provided callable will be used directly. To keep current behavior pass the string \"std\" instead.\n",
      "  .agg([np.count_nonzero, np.mean, np.std])\n"
     ]
    },
    {
     "data": {
      "text/html": [
       "<div>\n",
       "<style scoped>\n",
       "    .dataframe tbody tr th:only-of-type {\n",
       "        vertical-align: middle;\n",
       "    }\n",
       "\n",
       "    .dataframe tbody tr th {\n",
       "        vertical-align: top;\n",
       "    }\n",
       "\n",
       "    .dataframe thead th {\n",
       "        text-align: right;\n",
       "    }\n",
       "</style>\n",
       "<table border=\"1\" class=\"dataframe\">\n",
       "  <thead>\n",
       "    <tr style=\"text-align: right;\">\n",
       "      <th></th>\n",
       "      <th>count_nonzero</th>\n",
       "      <th>mean</th>\n",
       "      <th>std</th>\n",
       "    </tr>\n",
       "    <tr>\n",
       "      <th>year</th>\n",
       "      <th></th>\n",
       "      <th></th>\n",
       "      <th></th>\n",
       "    </tr>\n",
       "  </thead>\n",
       "  <tbody>\n",
       "    <tr>\n",
       "      <th>1952</th>\n",
       "      <td>142</td>\n",
       "      <td>49.057620</td>\n",
       "      <td>12.225956</td>\n",
       "    </tr>\n",
       "    <tr>\n",
       "      <th>1957</th>\n",
       "      <td>142</td>\n",
       "      <td>51.507401</td>\n",
       "      <td>12.231286</td>\n",
       "    </tr>\n",
       "    <tr>\n",
       "      <th>1962</th>\n",
       "      <td>142</td>\n",
       "      <td>53.609249</td>\n",
       "      <td>12.097245</td>\n",
       "    </tr>\n",
       "    <tr>\n",
       "      <th>1967</th>\n",
       "      <td>142</td>\n",
       "      <td>55.678290</td>\n",
       "      <td>11.718858</td>\n",
       "    </tr>\n",
       "    <tr>\n",
       "      <th>1972</th>\n",
       "      <td>142</td>\n",
       "      <td>57.647386</td>\n",
       "      <td>11.381953</td>\n",
       "    </tr>\n",
       "    <tr>\n",
       "      <th>1977</th>\n",
       "      <td>142</td>\n",
       "      <td>59.570157</td>\n",
       "      <td>11.227229</td>\n",
       "    </tr>\n",
       "    <tr>\n",
       "      <th>1982</th>\n",
       "      <td>142</td>\n",
       "      <td>61.533197</td>\n",
       "      <td>10.770618</td>\n",
       "    </tr>\n",
       "    <tr>\n",
       "      <th>1987</th>\n",
       "      <td>142</td>\n",
       "      <td>63.212613</td>\n",
       "      <td>10.556285</td>\n",
       "    </tr>\n",
       "    <tr>\n",
       "      <th>1992</th>\n",
       "      <td>142</td>\n",
       "      <td>64.160338</td>\n",
       "      <td>11.227380</td>\n",
       "    </tr>\n",
       "    <tr>\n",
       "      <th>1997</th>\n",
       "      <td>142</td>\n",
       "      <td>65.014676</td>\n",
       "      <td>11.559439</td>\n",
       "    </tr>\n",
       "    <tr>\n",
       "      <th>2002</th>\n",
       "      <td>142</td>\n",
       "      <td>65.694923</td>\n",
       "      <td>12.279823</td>\n",
       "    </tr>\n",
       "    <tr>\n",
       "      <th>2007</th>\n",
       "      <td>142</td>\n",
       "      <td>67.007423</td>\n",
       "      <td>12.073021</td>\n",
       "    </tr>\n",
       "  </tbody>\n",
       "</table>\n",
       "</div>"
      ],
      "text/plain": [
       "      count_nonzero       mean        std\n",
       "year                                     \n",
       "1952            142  49.057620  12.225956\n",
       "1957            142  51.507401  12.231286\n",
       "1962            142  53.609249  12.097245\n",
       "1967            142  55.678290  11.718858\n",
       "1972            142  57.647386  11.381953\n",
       "1977            142  59.570157  11.227229\n",
       "1982            142  61.533197  10.770618\n",
       "1987            142  63.212613  10.556285\n",
       "1992            142  64.160338  11.227380\n",
       "1997            142  65.014676  11.559439\n",
       "2002            142  65.694923  12.279823\n",
       "2007            142  67.007423  12.073021"
      ]
     },
     "execution_count": 14,
     "metadata": {},
     "output_type": "execute_result"
    }
   ],
   "source": [
    "# 8.1.4 Multiple Functions Simultaneously\n",
    "# calculate the count, mean, std of the lifeExp by continent\n",
    "gdf = (\n",
    "    df\n",
    "    .groupby(\"year\")\n",
    "    [\"lifeExp\"]\n",
    "    .agg([np.count_nonzero, np.mean, np.std])\n",
    ")\n",
    "gdf"
   ]
  },
  {
   "cell_type": "code",
   "execution_count": 16,
   "metadata": {},
   "outputs": [
    {
     "data": {
      "text/html": [
       "<div>\n",
       "<style scoped>\n",
       "    .dataframe tbody tr th:only-of-type {\n",
       "        vertical-align: middle;\n",
       "    }\n",
       "\n",
       "    .dataframe tbody tr th {\n",
       "        vertical-align: top;\n",
       "    }\n",
       "\n",
       "    .dataframe thead th {\n",
       "        text-align: right;\n",
       "    }\n",
       "</style>\n",
       "<table border=\"1\" class=\"dataframe\">\n",
       "  <thead>\n",
       "    <tr style=\"text-align: right;\">\n",
       "      <th></th>\n",
       "      <th>lifeExp</th>\n",
       "      <th>pop</th>\n",
       "      <th>gdpPercap</th>\n",
       "    </tr>\n",
       "    <tr>\n",
       "      <th>year</th>\n",
       "      <th></th>\n",
       "      <th></th>\n",
       "      <th></th>\n",
       "    </tr>\n",
       "  </thead>\n",
       "  <tbody>\n",
       "    <tr>\n",
       "      <th>1952</th>\n",
       "      <td>49.057620</td>\n",
       "      <td>3943953.0</td>\n",
       "      <td>1968.528344</td>\n",
       "    </tr>\n",
       "    <tr>\n",
       "      <th>1957</th>\n",
       "      <td>51.507401</td>\n",
       "      <td>4282942.0</td>\n",
       "      <td>2173.220291</td>\n",
       "    </tr>\n",
       "    <tr>\n",
       "      <th>1962</th>\n",
       "      <td>53.609249</td>\n",
       "      <td>4686039.5</td>\n",
       "      <td>2335.439533</td>\n",
       "    </tr>\n",
       "    <tr>\n",
       "      <th>1967</th>\n",
       "      <td>55.678290</td>\n",
       "      <td>5170175.5</td>\n",
       "      <td>2678.334740</td>\n",
       "    </tr>\n",
       "    <tr>\n",
       "      <th>1972</th>\n",
       "      <td>57.647386</td>\n",
       "      <td>5877996.5</td>\n",
       "      <td>3339.129407</td>\n",
       "    </tr>\n",
       "    <tr>\n",
       "      <th>1977</th>\n",
       "      <td>59.570157</td>\n",
       "      <td>6404036.5</td>\n",
       "      <td>3798.609244</td>\n",
       "    </tr>\n",
       "    <tr>\n",
       "      <th>1982</th>\n",
       "      <td>61.533197</td>\n",
       "      <td>7007320.0</td>\n",
       "      <td>4216.228428</td>\n",
       "    </tr>\n",
       "    <tr>\n",
       "      <th>1987</th>\n",
       "      <td>63.212613</td>\n",
       "      <td>7774861.5</td>\n",
       "      <td>4280.300366</td>\n",
       "    </tr>\n",
       "    <tr>\n",
       "      <th>1992</th>\n",
       "      <td>64.160338</td>\n",
       "      <td>8688686.5</td>\n",
       "      <td>4386.085502</td>\n",
       "    </tr>\n",
       "    <tr>\n",
       "      <th>1997</th>\n",
       "      <td>65.014676</td>\n",
       "      <td>9735063.5</td>\n",
       "      <td>4781.825478</td>\n",
       "    </tr>\n",
       "    <tr>\n",
       "      <th>2002</th>\n",
       "      <td>65.694923</td>\n",
       "      <td>10372918.5</td>\n",
       "      <td>5319.804524</td>\n",
       "    </tr>\n",
       "    <tr>\n",
       "      <th>2007</th>\n",
       "      <td>67.007423</td>\n",
       "      <td>10517531.0</td>\n",
       "      <td>6124.371108</td>\n",
       "    </tr>\n",
       "  </tbody>\n",
       "</table>\n",
       "</div>"
      ],
      "text/plain": [
       "        lifeExp         pop    gdpPercap\n",
       "year                                    \n",
       "1952  49.057620   3943953.0  1968.528344\n",
       "1957  51.507401   4282942.0  2173.220291\n",
       "1962  53.609249   4686039.5  2335.439533\n",
       "1967  55.678290   5170175.5  2678.334740\n",
       "1972  57.647386   5877996.5  3339.129407\n",
       "1977  59.570157   6404036.5  3798.609244\n",
       "1982  61.533197   7007320.0  4216.228428\n",
       "1987  63.212613   7774861.5  4280.300366\n",
       "1992  64.160338   8688686.5  4386.085502\n",
       "1997  65.014676   9735063.5  4781.825478\n",
       "2002  65.694923  10372918.5  5319.804524\n",
       "2007  67.007423  10517531.0  6124.371108"
      ]
     },
     "execution_count": 16,
     "metadata": {},
     "output_type": "execute_result"
    }
   ],
   "source": [
    "# 8.1.5 Use a Dict in agg()\n",
    "# you can pass a dict when using agg method but result depends if applying to a dataframe or a series\n",
    "# On a dataframe: the keys are the columns and the values are the functions used in the aggregate\n",
    "gdf_dict = df.groupby(\"year\").agg(\n",
    "    {\n",
    "        \"lifeExp\": \"mean\",\n",
    "        \"pop\": \"median\",\n",
    "        \"gdpPercap\": \"median\"\n",
    "    }\n",
    ")\n",
    "gdf_dict\n"
   ]
  },
  {
   "cell_type": "code",
   "execution_count": 17,
   "metadata": {},
   "outputs": [
    {
     "name": "stderr",
     "output_type": "stream",
     "text": [
      "C:\\Users\\ruben.rodriguez\\AppData\\Local\\Temp\\ipykernel_4108\\3742276232.py:7: FutureWarning: The provided callable <function mean at 0x000002AFF76A02C0> is currently using SeriesGroupBy.mean. In a future version of pandas, the provided callable will be used directly. To keep current behavior pass the string \"mean\" instead.\n",
      "  .agg(\n",
      "C:\\Users\\ruben.rodriguez\\AppData\\Local\\Temp\\ipykernel_4108\\3742276232.py:7: FutureWarning: The provided callable <function std at 0x000002AFF76A0400> is currently using SeriesGroupBy.std. In a future version of pandas, the provided callable will be used directly. To keep current behavior pass the string \"std\" instead.\n",
      "  .agg(\n"
     ]
    },
    {
     "data": {
      "text/html": [
       "<div>\n",
       "<style scoped>\n",
       "    .dataframe tbody tr th:only-of-type {\n",
       "        vertical-align: middle;\n",
       "    }\n",
       "\n",
       "    .dataframe tbody tr th {\n",
       "        vertical-align: top;\n",
       "    }\n",
       "\n",
       "    .dataframe thead th {\n",
       "        text-align: right;\n",
       "    }\n",
       "</style>\n",
       "<table border=\"1\" class=\"dataframe\">\n",
       "  <thead>\n",
       "    <tr style=\"text-align: right;\">\n",
       "      <th></th>\n",
       "      <th>year</th>\n",
       "      <th>count</th>\n",
       "      <th>avg</th>\n",
       "      <th>std_dev</th>\n",
       "    </tr>\n",
       "  </thead>\n",
       "  <tbody>\n",
       "    <tr>\n",
       "      <th>0</th>\n",
       "      <td>1952</td>\n",
       "      <td>142</td>\n",
       "      <td>49.057620</td>\n",
       "      <td>12.225956</td>\n",
       "    </tr>\n",
       "    <tr>\n",
       "      <th>1</th>\n",
       "      <td>1957</td>\n",
       "      <td>142</td>\n",
       "      <td>51.507401</td>\n",
       "      <td>12.231286</td>\n",
       "    </tr>\n",
       "    <tr>\n",
       "      <th>2</th>\n",
       "      <td>1962</td>\n",
       "      <td>142</td>\n",
       "      <td>53.609249</td>\n",
       "      <td>12.097245</td>\n",
       "    </tr>\n",
       "    <tr>\n",
       "      <th>3</th>\n",
       "      <td>1967</td>\n",
       "      <td>142</td>\n",
       "      <td>55.678290</td>\n",
       "      <td>11.718858</td>\n",
       "    </tr>\n",
       "    <tr>\n",
       "      <th>4</th>\n",
       "      <td>1972</td>\n",
       "      <td>142</td>\n",
       "      <td>57.647386</td>\n",
       "      <td>11.381953</td>\n",
       "    </tr>\n",
       "    <tr>\n",
       "      <th>5</th>\n",
       "      <td>1977</td>\n",
       "      <td>142</td>\n",
       "      <td>59.570157</td>\n",
       "      <td>11.227229</td>\n",
       "    </tr>\n",
       "    <tr>\n",
       "      <th>6</th>\n",
       "      <td>1982</td>\n",
       "      <td>142</td>\n",
       "      <td>61.533197</td>\n",
       "      <td>10.770618</td>\n",
       "    </tr>\n",
       "    <tr>\n",
       "      <th>7</th>\n",
       "      <td>1987</td>\n",
       "      <td>142</td>\n",
       "      <td>63.212613</td>\n",
       "      <td>10.556285</td>\n",
       "    </tr>\n",
       "    <tr>\n",
       "      <th>8</th>\n",
       "      <td>1992</td>\n",
       "      <td>142</td>\n",
       "      <td>64.160338</td>\n",
       "      <td>11.227380</td>\n",
       "    </tr>\n",
       "    <tr>\n",
       "      <th>9</th>\n",
       "      <td>1997</td>\n",
       "      <td>142</td>\n",
       "      <td>65.014676</td>\n",
       "      <td>11.559439</td>\n",
       "    </tr>\n",
       "    <tr>\n",
       "      <th>10</th>\n",
       "      <td>2002</td>\n",
       "      <td>142</td>\n",
       "      <td>65.694923</td>\n",
       "      <td>12.279823</td>\n",
       "    </tr>\n",
       "    <tr>\n",
       "      <th>11</th>\n",
       "      <td>2007</td>\n",
       "      <td>142</td>\n",
       "      <td>67.007423</td>\n",
       "      <td>12.073021</td>\n",
       "    </tr>\n",
       "  </tbody>\n",
       "</table>\n",
       "</div>"
      ],
      "text/plain": [
       "    year  count        avg    std_dev\n",
       "0   1952    142  49.057620  12.225956\n",
       "1   1957    142  51.507401  12.231286\n",
       "2   1962    142  53.609249  12.097245\n",
       "3   1967    142  55.678290  11.718858\n",
       "4   1972    142  57.647386  11.381953\n",
       "5   1977    142  59.570157  11.227229\n",
       "6   1982    142  61.533197  10.770618\n",
       "7   1987    142  63.212613  10.556285\n",
       "8   1992    142  64.160338  11.227380\n",
       "9   1997    142  65.014676  11.559439\n",
       "10  2002    142  65.694923  12.279823\n",
       "11  2007    142  67.007423  12.073021"
      ]
     },
     "execution_count": 17,
     "metadata": {},
     "output_type": "execute_result"
    }
   ],
   "source": [
    "# 8.1.5.2 On a Series\n",
    "# To have user-defined column names, we need to renae those columns after the fact\n",
    "gdf = (\n",
    "    df\n",
    "    .groupby(\"year\")\n",
    "    [\"lifeExp\"]\n",
    "    .agg(\n",
    "        [\n",
    "            np.count_nonzero,\n",
    "            np.mean,\n",
    "            np.std,\n",
    "        ]\n",
    "    )\n",
    "    .rename(\n",
    "        columns={\n",
    "            \"count_nonzero\": \"count\",\n",
    "            \"mean\": \"avg\",\n",
    "            \"std\": \"std_dev\",\n",
    "        }\n",
    "    )\n",
    "    .reset_index() # return a flat dataframe\n",
    ")\n",
    "gdf"
   ]
  },
  {
   "cell_type": "code",
   "execution_count": 18,
   "metadata": {},
   "outputs": [],
   "source": [
    "# 8.2 Transform. takes multiple values and retruns a one-to-one tranformation of the values\n",
    "def my_zscore(x):\n",
    "    \"\"\"calculates the z-score of provided data\n",
    "       'x' is a series or a vector\n",
    "    \"\"\"\n",
    "    return ((x - x.mean()) / x.std())"
   ]
  },
  {
   "cell_type": "code",
   "execution_count": 19,
   "metadata": {},
   "outputs": [
    {
     "data": {
      "text/plain": [
       "0      -1.656854\n",
       "1      -1.731249\n",
       "2      -1.786543\n",
       "3      -1.848157\n",
       "4      -1.894173\n",
       "          ...   \n",
       "1699   -0.081621\n",
       "1700   -0.336974\n",
       "1701   -1.574962\n",
       "1702   -2.093346\n",
       "1703   -1.948180\n",
       "Name: lifeExp, Length: 1704, dtype: float64"
      ]
     },
     "execution_count": 19,
     "metadata": {},
     "output_type": "execute_result"
    }
   ],
   "source": [
    "transform_z = df.groupby('year')[\"lifeExp\"].transform(my_zscore)\n",
    "transform_z"
   ]
  },
  {
   "cell_type": "code",
   "execution_count": 22,
   "metadata": {},
   "outputs": [
    {
     "data": {
      "text/plain": [
       "(1704, 6)"
      ]
     },
     "execution_count": 22,
     "metadata": {},
     "output_type": "execute_result"
    }
   ],
   "source": [
    "# note the number of rows in our data\n",
    "df.shape\n"
   ]
  },
  {
   "cell_type": "code",
   "execution_count": 23,
   "metadata": {},
   "outputs": [
    {
     "data": {
      "text/plain": [
       "(1704,)"
      ]
     },
     "execution_count": 23,
     "metadata": {},
     "output_type": "execute_result"
    }
   ],
   "source": [
    "transform_z.shape"
   ]
  },
  {
   "cell_type": "code",
   "execution_count": null,
   "metadata": {},
   "outputs": [],
   "source": [
    "# Now, we will compare when we use scipy's own function zscore instead of using groupby\n",
    "from scipy.stats import zscore\n"
   ]
  }
 ],
 "metadata": {
  "kernelspec": {
   "display_name": "Python 3",
   "language": "python",
   "name": "python3"
  },
  "language_info": {
   "codemirror_mode": {
    "name": "ipython",
    "version": 3
   },
   "file_extension": ".py",
   "mimetype": "text/x-python",
   "name": "python",
   "nbconvert_exporter": "python",
   "pygments_lexer": "ipython3",
   "version": "3.12.0"
  }
 },
 "nbformat": 4,
 "nbformat_minor": 2
}
